{
  "nbformat": 4,
  "nbformat_minor": 0,
  "metadata": {
    "colab": {
      "name": "mlb.ipynb",
      "provenance": [],
      "collapsed_sections": []
    },
    "kernelspec": {
      "name": "python3",
      "display_name": "Python 3"
    }
  },
  "cells": [
    {
      "cell_type": "code",
      "metadata": {
        "id": "GC3Lt7fbM55e",
        "colab": {
          "base_uri": "https://localhost:8080/"
        },
        "outputId": "34630d83-302a-4e28-dfce-1bf7f7f870a7"
      },
      "source": [
        "!pip install pymysql"
      ],
      "execution_count": 30,
      "outputs": [
        {
          "output_type": "stream",
          "text": [
            "Requirement already satisfied: pymysql in /usr/local/lib/python3.6/dist-packages (1.0.2)\n"
          ],
          "name": "stdout"
        }
      ]
    },
    {
      "cell_type": "code",
      "metadata": {
        "id": "c-2pqhzt8Uyb"
      },
      "source": [
        "import subprocess"
      ],
      "execution_count": 31,
      "outputs": []
    },
    {
      "cell_type": "code",
      "metadata": {
        "id": "hYy0xgYiNTF4"
      },
      "source": [
        "import pymysql\n",
        "\n",
        "\n",
        "class DB:\n",
        "    def __init__(self):\n",
        "        try:\n",
        "          self.conn = pymysql.connect(\n",
        "              user='admin',#@param {type:\"string\"},\n",
        "              password='adminadmin',#@param {type:\"string\"},\n",
        "              host='database-1.cjcbghqlwnpl.us-east-1.rds.amazonaws.com',#@param {type:\"string\"},\n",
        "              database = 'lahman'\n",
        "          )\n",
        "\n",
        "        except Exception as e:\n",
        "            print(\"I am unable to connect to the database - bye \" + str(e))\n",
        "            exit()\n",
        "        print('Got a DB connection!- hurray')\n",
        "        self.cur = self.conn.cursor()\n",
        "\n",
        "    def cursor(self):\n",
        "        return self.cur\n",
        "\n",
        "    def getNewCursor(self):\n",
        "        return self.conn.cursor()\n",
        "\n",
        "    def connection(self):\n",
        "        return self.conn\n",
        "\n",
        "    def query(self, q):\n",
        "        self.cur.execute(q)\n",
        "        try:\n",
        "          return self.cur.fetchall()\n",
        "        except Exception as e:\n",
        "          print('no result to return')\n",
        "          return"
      ],
      "execution_count": 32,
      "outputs": []
    },
    {
      "cell_type": "markdown",
      "metadata": {
        "id": "IJ0yl4QoNVPu"
      },
      "source": [
        "Implement the following queries\n",
        "\n",
        "1. The number of all stars in allstarfull.\n",
        "2. The most home runs in a season by a single player (using the batting table).\n",
        "3. The playerid of the player with the most home runs in a season.\n",
        "4. The number of leagues in the batting table.\n",
        "5. Barry Bond's average batting average (playerid = 'bondsba01') where batting average is hits / at-bats. Note you will nead to cast hits to get a decimal: cast(h as real)\n",
        "6. The teamid with the fewest hits in the year 2000 (ie., yearid = '2000'). Return both the teamid, and the number of hits. Note you can use ORDER BY column and LIMIT 1.\n",
        "7. The teamid in the year 2000 (i.e., yearid = '2000')  with the highest average batting average. Return the teamid and the average. To prevent divsion by 0, limit at-bats > 0.\n",
        "8. The number of all stars the giants (teamid = 'SFN') had in 2000.\n",
        "9. The yearid which the giants had the most all stars.\n",
        "10. The average salary in year 2000.\n",
        "11. The number of positions (e.g., catchers, pitchers) that have average salaries greather than 2000000 in yearid 2000. You will need to join fielding with salaries. Also consider using a HAVING clause.\n",
        "12. The number of errors Barry Bonds had in 2000. \n",
        "13. The average salary of all stars in 2000.\n",
        "14. The average salary of non-all stars in 2000.\n",
        "\n",
        "You can test each query result using the  corresponding tests in the notebook."
      ]
    },
    {
      "cell_type": "code",
      "metadata": {
        "id": "5Z65lPtUritX"
      },
      "source": [
        "# required for some rounding\n",
        "import math "
      ],
      "execution_count": 33,
      "outputs": []
    },
    {
      "cell_type": "code",
      "metadata": {
        "id": "Z-utpfszNUru"
      },
      "source": [
        "#As an example q1 and q3  have been already filled for you.\n",
        "#Note the use of group by https://www.w3schools.com/sql/sql_groupby.asp to categorize the data by player id and year.\n",
        "q1 = 'select count(*) from allstarfull;'\n",
        "q3 = 'select playerid from batting INNER Join (select MAX(HR) as m from batting) as data ON batting.hr=data.m'"
      ],
      "execution_count": 34,
      "outputs": []
    },
    {
      "cell_type": "code",
      "metadata": {
        "id": "t5J2wnqHNlRV"
      },
      "source": [
        "#Fill queries here\n",
        "\n",
        "q2 = ''\n",
        "\n",
        "q4 = ''\n",
        "\n",
        "q5 = ''\n",
        "\n",
        "q6 = ''\n",
        "\n",
        "\n",
        "q7 = ''\n",
        "\n",
        "\n",
        "q8 = ''\n",
        "\n",
        "\n",
        "q9 = ''\n",
        "\n",
        "\n",
        "q10 = ''\n",
        "\n",
        "\n",
        "q11 = ''\n",
        "\n",
        "\n",
        "q12 = ''\n",
        "\n",
        "\n",
        "q13 = ''\n",
        "\n",
        "\n",
        "q14 = ''\n",
        "\n"
      ],
      "execution_count": 35,
      "outputs": []
    },
    {
      "cell_type": "code",
      "metadata": {
        "id": "Xi19qUekN39G"
      },
      "source": [
        "#the main function will execute all queries\n",
        "def part1():\n",
        "  db = DB()\n",
        "\n",
        "  print()\n",
        "\n",
        "  for q in [q1, q2, q3, q4, q5, q6, q7, q8, q9, q10, q11, q12, q13, q14]:\n",
        "    print(q)\n",
        "    res = db.query(q)\n",
        "    \n",
        "    for line in db.query(q):\n",
        "      print(line[0])\n",
        "    print()\n",
        "    \n",
        "  test_q1()\n",
        "  print('Q1 - succesful')\n",
        "  test_q2()\n",
        "  print('Q2 - succesful')\n",
        "  test_q3()\n",
        "  print('Q3 - succesful')\n",
        "  test_q4()\n",
        "  print('Q4 - succesful')\n",
        "  test_q5()\n",
        "  print('Q5 - succesful')\n",
        "  test_q6()\n",
        "  print('Q6 - succesful')\n",
        "  test_q7()\n",
        "  print('Q7 - succesful')\n",
        "  test_q8()\n",
        "  print('Q8 - succesful')\n",
        "  test_q9()\n",
        "  print('Q9 - succesful')\n",
        "  test_q10()\n",
        "  print('Q10 - succesful')\n",
        "  test_q11()\n",
        "  print('Q11 - succesful')\n",
        "  test_q12()\n",
        "  print('Q12 - succesful')\n",
        "  test_q13()\n",
        "  print('Q13 - succesful')\n",
        "  test_q14()\n",
        "  print('Q14 - succesful')\n",
        "\n",
        "  print('All asserts are successful!')"
      ],
      "execution_count": 36,
      "outputs": []
    },
    {
      "cell_type": "markdown",
      "metadata": {
        "id": "-944wRz4ONk2"
      },
      "source": [
        "And here are all the tests. You can run any of these tests directly and check the results against your query."
      ]
    },
    {
      "cell_type": "code",
      "metadata": {
        "id": "NbRSv2gDOScv"
      },
      "source": [
        "def test_q1():\n",
        "    db = DB()\n",
        "    assert db.query(q1)[0][0] == 4834"
      ],
      "execution_count": 37,
      "outputs": []
    },
    {
      "cell_type": "code",
      "metadata": {
        "id": "3Z8iyPx9Y6D7"
      },
      "source": [
        "def test_q2():\n",
        "    db = DB()\n",
        "    assert db.query(q2)[0][0] == 73"
      ],
      "execution_count": 38,
      "outputs": []
    },
    {
      "cell_type": "code",
      "metadata": {
        "id": "E-Cf62JxY6oY"
      },
      "source": [
        "def test_q3():\n",
        "    db = DB()\n",
        "    assert db.query(q3)[0][0] == 'bondsba01'"
      ],
      "execution_count": 39,
      "outputs": []
    },
    {
      "cell_type": "code",
      "metadata": {
        "id": "2JNSZ8K0Y8MI"
      },
      "source": [
        "def test_q4():\n",
        "    db = DB()\n",
        "    assert db.query(q4)[0][0] == 7"
      ],
      "execution_count": 40,
      "outputs": []
    },
    {
      "cell_type": "code",
      "metadata": {
        "id": "Y9E7_KOMY9zY"
      },
      "source": [
        "def test_q5():\n",
        "    db = DB()\n",
        "    assert math.isclose(db.query(q5)[0][0], 0.298305762454545)"
      ],
      "execution_count": 41,
      "outputs": []
    },
    {
      "cell_type": "code",
      "metadata": {
        "id": "_RQJ58SQZBkR"
      },
      "source": [
        "def test_q6():\n",
        "    db = DB()\n",
        "    assert db.query(q6)[0][0] == 'MIL'\n",
        "    assert db.query(q6)[0][1] == 1366"
      ],
      "execution_count": 42,
      "outputs": []
    },
    {
      "cell_type": "code",
      "metadata": {
        "id": "h_nO4V2GZD2o"
      },
      "source": [
        "def test_q7():\n",
        "    db = DB()\n",
        "    assert db.query(q7)[0][0] == 'SEA'\n",
        "    print(db.query(q7)[0][1])\n",
        "    assert math.isclose(db.query(q7)[0][1], 0.28079655)\n",
        "  \n",
        "    \n"
      ],
      "execution_count": 43,
      "outputs": []
    },
    {
      "cell_type": "code",
      "metadata": {
        "id": "tHXnXizMZFMw"
      },
      "source": [
        "def test_q8():\n",
        "    db = DB()\n",
        "    assert db.query(q8)[0][0] == 2"
      ],
      "execution_count": 44,
      "outputs": []
    },
    {
      "cell_type": "code",
      "metadata": {
        "id": "Rk9C96EgZGsw"
      },
      "source": [
        "def test_q9():\n",
        "    db = DB()\n",
        "    assert db.query(q9)[0][0] == 1966 # or 1961 , 1962"
      ],
      "execution_count": 45,
      "outputs": []
    },
    {
      "cell_type": "code",
      "metadata": {
        "id": "n5k73xhGZM6J"
      },
      "source": [
        "def test_q10():\n",
        "    db = DB()\n",
        "    assert int(db.query(q10)[0][0]) == 1992984"
      ],
      "execution_count": 46,
      "outputs": []
    },
    {
      "cell_type": "code",
      "metadata": {
        "id": "fn_RjI-yZO7g"
      },
      "source": [
        "def test_q11():\n",
        "    db = DB()\n",
        "    assert db.query(q11)[0][0] == 3"
      ],
      "execution_count": 47,
      "outputs": []
    },
    {
      "cell_type": "code",
      "metadata": {
        "id": "2rDASFGDZQY5"
      },
      "source": [
        "def test_q12():\n",
        "    db = DB()\n",
        "    assert db.query(q12)[0][0] == 3 # or 6"
      ],
      "execution_count": 48,
      "outputs": []
    },
    {
      "cell_type": "code",
      "metadata": {
        "id": "4BTx1FKfZRtg"
      },
      "source": [
        "def test_q13():\n",
        "    db = DB()\n",
        "    assert int(db.query(q13)[0][0]) == 5388841"
      ],
      "execution_count": 49,
      "outputs": []
    },
    {
      "cell_type": "code",
      "metadata": {
        "id": "cFwM4GFLZT7x"
      },
      "source": [
        "def test_q14():\n",
        "    db = DB()\n",
        "    assert int(db.query(q14)[0][0]) == 1692309"
      ],
      "execution_count": 50,
      "outputs": []
    },
    {
      "cell_type": "code",
      "metadata": {
        "id": "v2IaEUCL71gc"
      },
      "source": [
        ""
      ],
      "execution_count": 50,
      "outputs": []
    },
    {
      "cell_type": "code",
      "metadata": {
        "id": "hBper4XE71is"
      },
      "source": [
        ""
      ],
      "execution_count": 50,
      "outputs": []
    },
    {
      "cell_type": "code",
      "metadata": {
        "id": "YXBUntPu71s8"
      },
      "source": [
        ""
      ],
      "execution_count": 50,
      "outputs": []
    },
    {
      "cell_type": "code",
      "metadata": {
        "id": "l1XVbm507QfO"
      },
      "source": [
        " def simple_targeted_sum(l, t):\r\n",
        "    for i in l:\r\n",
        "        for j in l:\r\n",
        "            if i + j == t:\r\n",
        "                return True\r\n",
        "\r\n",
        "    return False"
      ],
      "execution_count": 51,
      "outputs": []
    },
    {
      "cell_type": "code",
      "metadata": {
        "id": "tIvE8f027Qk0"
      },
      "source": [
        " def targeted_sum(l, t):\r\n",
        "    # implement\r\n",
        "    return True"
      ],
      "execution_count": 52,
      "outputs": []
    },
    {
      "cell_type": "code",
      "metadata": {
        "id": "GOREHq457QnH"
      },
      "source": [
        " def test_target1():\r\n",
        "    assert targeted_sum([1, 4, 3, 9], 5) is True"
      ],
      "execution_count": 53,
      "outputs": []
    },
    {
      "cell_type": "code",
      "metadata": {
        "id": "meG9cpv97Qpn"
      },
      "source": [
        " def test_target2():\r\n",
        "    assert targeted_sum([1, 4, 3, 9], 51) is False"
      ],
      "execution_count": 54,
      "outputs": []
    },
    {
      "cell_type": "code",
      "metadata": {
        "id": "5wxBSWQa7QuW"
      },
      "source": [
        "#your code should be more efficient. The following checks for that\r\n",
        "def test_target_time():\r\n",
        "    l = range(0, 200)\r\n",
        "\r\n",
        "    t1 = time()\r\n",
        "    r1 = targeted_sum(l, 250)\r\n",
        "    t2 = time() - t1\r\n",
        "\r\n",
        "    t3 = time()\r\n",
        "    r2 = simple_targeted_sum(l, 250)\r\n",
        "    t4 = time() - t3\r\n",
        "\r\n",
        "    assert r1 == r2\r\n",
        "    assert t2 < t4"
      ],
      "execution_count": 55,
      "outputs": []
    },
    {
      "cell_type": "code",
      "metadata": {
        "id": "kiAL0Vax57uj"
      },
      "source": [
        " #test_target \r\n",
        " def part2():\r\n",
        "    print(targeted_sum([1,4,7,11], 5))\r\n",
        "    print(simple_targeted_sum([1,4,7,11], 5))\r\n",
        "    print(targeted_sum([1,4,7,11], 33))\r\n",
        "    print(simple_targeted_sum([1,4,7,11], 33))\r\n",
        "    test_target1()\r\n",
        "    test_target2()\r\n",
        "    test_target_time()\r\n",
        "\r\n"
      ],
      "execution_count": 56,
      "outputs": []
    },
    {
      "cell_type": "code",
      "metadata": {
        "id": "X0Zn-mpQ57xJ"
      },
      "source": [
        ""
      ],
      "execution_count": 56,
      "outputs": []
    },
    {
      "cell_type": "code",
      "metadata": {
        "id": "hoLioHtt8FqO"
      },
      "source": [
        "\r\n",
        "\r\n",
        "'''\r\n",
        "Use cat, grep, wc, cut, sort, head and tail to implement the following tasks.\r\n",
        "You can use the man page for each command for detailed instructions.\r\n",
        "\r\n",
        "1. A command to count the lines in data/bonds.csv\r\n",
        "\r\n",
        "2. A command to count the number of lines between 2000-2009.\r\n",
        "The second column is the year.\r\n",
        "\r\n",
        "3. A command to count the number of lines not between 2000-2009.\r\n",
        "\r\n",
        "4. A command to extract the largest number of games Bonds played in a year.\r\n",
        "Games played is column six.\r\n",
        "\r\n",
        "5. A command to extract the distinct teams Bonds played for.\r\n",
        "Team is column four.\r\n",
        "\r\n",
        "6. A command to extract the year from the first row in file.\r\n",
        "'''\r\n",
        "\r\n",
        "# correct c1..c6 with the right command\r\n",
        "c1 = 'cat data/bonds.csv | wc -l'\r\n",
        "c2 = \"cat data/bonds.csv | wc -l\"\r\n",
        "c3 = \"cat data/bonds.csv | wc -l\"\r\n",
        "c4 = \"cat data/data/bonds.csv | wc -l\"\r\n",
        "c5 = \"cat data/bonds.csv | wc -l\"\r\n",
        "c6 = \"cat data/bonds.csv | wc -l\"\r\n",
        "\r\n",
        "def test_unix_queries():\r\n",
        "    for c in [c1, c2, c3, c4, c5, c6]:\r\n",
        "        print(c)\r\n",
        "        print(subprocess.check_output(c, shell=True))\r\n",
        "\r\n",
        "\r\n",
        "def test_c1():\r\n",
        "    out = subprocess.check_output(c1, shell=True)\r\n",
        "    assert (out == b'22\\n' or out == '22\\n')\r\n",
        "\r\n",
        "def test_c2():\r\n",
        "    out = subprocess.check_output(c2, shell=True)\r\n",
        "    assert (out == b'8\\n' or out == '8\\n')\r\n",
        "\r\n",
        "def test_c3():\r\n",
        "    out = subprocess.check_output(c3, shell=True)\r\n",
        "    assert (out == b'14\\n' or out == '14\\n')\r\n",
        "\r\n",
        "def test_c4():\r\n",
        "    out = subprocess.check_output(c4, shell=True)\r\n",
        "    assert (out == b'159\\n' or out == '159\\n')\r\n",
        "\r\n",
        "def test_c5():\r\n",
        "    out = subprocess.check_output(c5, shell=True)\r\n",
        "    assert (out == b'PIT\\nSFN\\n' or out == 'PIT\\nSFN\\n')\r\n",
        "\r\n",
        "def test_c6():\r\n",
        "    out = subprocess.check_output(c6, shell=True)\r\n",
        "    assert (out == b'1986\\n' or out == '1986\\n')\r\n",
        "    \r\n",
        "    \r\n",
        "#run main and check tests    \r\n",
        "def part3():\r\n",
        "    test_unix_queries()\r\n",
        "    print('done')\r\n",
        "\r\n",
        "    try:\r\n",
        "        test_c1()\r\n",
        "        print(\"test_c1 passed\")\r\n",
        "    except:\r\n",
        "        print(\"test_c1 failed\")\r\n",
        "        \r\n",
        "    try:\r\n",
        "        test_c2()\r\n",
        "        print(\"test_c2 passed\")\r\n",
        "    except:\r\n",
        "        print(\"test_c2 failed\")\r\n",
        "        \r\n",
        "    try:\r\n",
        "        test_c3()\r\n",
        "        print(\"test_c3 passed\")\r\n",
        "    except:\r\n",
        "        print(\"test_c3 failed\")\r\n",
        "        \r\n",
        "        \r\n",
        "    try:\r\n",
        "        test_c4()\r\n",
        "        print(\"test_c4 passed\")\r\n",
        "    except:\r\n",
        "        print(\"test_c4 failed\")\r\n",
        "        \r\n",
        "        \r\n",
        "    try:\r\n",
        "        test_c5()\r\n",
        "        print(\"test_c5 passed\")\r\n",
        "    except:\r\n",
        "        print(\"test_c5 failed\")\r\n",
        "        \r\n",
        "    try:\r\n",
        "        test_c6()\r\n",
        "        print(\"test_c6 passed\")\r\n",
        "    except:\r\n",
        "        print(\"test_c6 failed\")\r\n"
      ],
      "execution_count": 57,
      "outputs": []
    },
    {
      "cell_type": "code",
      "metadata": {
        "id": "OXhvlLav57zn"
      },
      "source": [
        ""
      ],
      "execution_count": 57,
      "outputs": []
    },
    {
      "cell_type": "code",
      "metadata": {
        "id": "yzP9OGpzZqQS",
        "colab": {
          "base_uri": "https://localhost:8080/"
        },
        "outputId": "2a237ef7-f543-4c5b-a171-ecf9a8fa11f9"
      },
      "source": [
        "\n",
        "\n",
        "\n",
        "#To run the main function call main from the notebook here\n",
        "if __name__ == '__main__':\n",
        "    part1()\n",
        "    part2()\n",
        "    part3()"
      ],
      "execution_count": 58,
      "outputs": [
        {
          "output_type": "stream",
          "text": [
            "cat data/bonds.csv | wc -l\n",
            "b'0\\n'\n",
            "cat data/bonds.csv | wc -l\n",
            "b'0\\n'\n",
            "cat data/bonds.csv | wc -l\n",
            "b'0\\n'\n",
            "cat data/data/bonds.csv | wc -l\n",
            "b'0\\n'\n",
            "cat data/bonds.csv | wc -l\n",
            "b'0\\n'\n",
            "cat data/bonds.csv | wc -l\n",
            "b'0\\n'\n",
            "done\n",
            "test_c1 failed\n",
            "test_c2 failed\n",
            "test_c3 failed\n",
            "test_c4 failed\n",
            "test_c5 failed\n",
            "test_c6 failed\n"
          ],
          "name": "stdout"
        }
      ]
    },
    {
      "cell_type": "code",
      "metadata": {
        "id": "tz1qdmKu5716"
      },
      "source": [
        ""
      ],
      "execution_count": 58,
      "outputs": []
    },
    {
      "cell_type": "code",
      "metadata": {
        "id": "9GSzS--R574a"
      },
      "source": [
        ""
      ],
      "execution_count": 58,
      "outputs": []
    },
    {
      "cell_type": "code",
      "metadata": {
        "id": "4pS56bah576s"
      },
      "source": [
        ""
      ],
      "execution_count": 58,
      "outputs": []
    },
    {
      "cell_type": "code",
      "metadata": {
        "id": "R3xhC6W658Az"
      },
      "source": [
        ""
      ],
      "execution_count": 58,
      "outputs": []
    }
  ]
}